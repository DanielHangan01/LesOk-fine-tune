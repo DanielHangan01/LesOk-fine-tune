{
 "cells": [
  {
   "cell_type": "code",
   "execution_count": null,
   "id": "initial_id",
   "metadata": {
    "collapsed": true
   },
   "outputs": [],
   "source": [
    "from google.colab import drive\n",
    "drive.mount('/content/drive')"
   ]
  },
  {
   "cell_type": "code",
   "outputs": [],
   "source": [
    "!ls"
   ],
   "metadata": {
    "collapsed": false
   },
   "id": "299f28da86f8bd42"
  },
  {
   "cell_type": "code",
   "outputs": [],
   "source": [
    "!git clone https://github.com/NikKonst/LesOk-fine-tune.git"
   ],
   "metadata": {
    "collapsed": false
   },
   "id": "d7f0bac6d6dd5193"
  },
  {
   "cell_type": "code",
   "outputs": [],
   "source": [
    "%cd LesOk-fine-tune"
   ],
   "metadata": {
    "collapsed": false
   },
   "id": "41b641bf2ead116d"
  },
  {
   "cell_type": "code",
   "outputs": [],
   "source": [
    "!git branch -a"
   ],
   "metadata": {
    "collapsed": false
   },
   "id": "e2aaa9ccbd80699b"
  },
  {
   "cell_type": "code",
   "outputs": [],
   "source": [
    "!git pull origin main"
   ],
   "metadata": {
    "collapsed": false
   },
   "id": "c75e077c3bfc32da"
  },
  {
   "cell_type": "code",
   "outputs": [],
   "source": [
    "!pip install poetry\n",
    "!poetry config virtualenvs.in-project false\n",
    "!poetry install --all-extras\n",
    "!poetry run pip install --upgrade torch torchvision gradio safetensors opencv-python monai"
   ],
   "metadata": {
    "collapsed": false
   },
   "id": "a1cb9f78450efacc"
  },
  {
   "cell_type": "code",
   "outputs": [],
   "source": [
    "!wget https://dl.fbaipublicfiles.com/segment_anything/sam_vit_b_01ec64.pth -O sam_vit_b_01ec64.pth"
   ],
   "metadata": {
    "collapsed": false
   },
   "id": "133777366a6efb8d"
  },
  {
   "cell_type": "code",
   "outputs": [],
   "source": [
    "!git pull origin main"
   ],
   "metadata": {
    "collapsed": false
   },
   "id": "5a8bcc165120137"
  },
  {
   "cell_type": "code",
   "outputs": [],
   "source": [
    "config_str = \"\"\"DATASET:\n",
    "  TRAIN_PATH: \"/content/drive/MyDrive/LesOk/data/train\"\n",
    "  VAL_PATH: \"/content/drive/MyDrive/LesOk/data/validation\"\n",
    "  TEST_PATH: \"/content/drive/MyDrive/LesOk/data/validation\"\n",
    "  IMAGE_FORMAT: \".png\"\n",
    "\n",
    "SAM:\n",
    "  CHECKPOINT: \"/content/LesOk-fine-tune/sam_vit_b_01ec64.pth\"\n",
    "  RANK: 512\n",
    "\n",
    "TRAIN:\n",
    "  BATCH_SIZE: 1\n",
    "  NUM_EPOCHS: 50\n",
    "  LEARNING_RATE: 0.0001\n",
    "\n",
    "VAL:\n",
    "  BATCH_SIZE: 1\"\"\"\n",
    "\n",
    "with open('/content/LesOk-fine-tune/config.yaml', 'w') as f:\n",
    "    f.write(config_str)"
   ],
   "metadata": {
    "collapsed": false
   },
   "id": "842edc1ae6e81281"
  },
  {
   "cell_type": "code",
   "outputs": [],
   "source": [
    "!poetry run python train.py"
   ],
   "metadata": {
    "collapsed": false
   },
   "id": "4245ca8d2020c66c"
  }
 ],
 "metadata": {
  "kernelspec": {
   "display_name": "Python 3",
   "language": "python",
   "name": "python3"
  },
  "language_info": {
   "codemirror_mode": {
    "name": "ipython",
    "version": 2
   },
   "file_extension": ".py",
   "mimetype": "text/x-python",
   "name": "python",
   "nbconvert_exporter": "python",
   "pygments_lexer": "ipython2",
   "version": "2.7.6"
  }
 },
 "nbformat": 4,
 "nbformat_minor": 5
}
